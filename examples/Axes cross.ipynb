{
 "cells": [
  {
   "cell_type": "code",
   "execution_count": null,
   "metadata": {},
   "outputs": [],
   "source": [
    "import numpy as np\n",
    "import pythreejs as three\n",
    "from threeplot import *\n",
    "from ipyscales import *"
   ]
  },
  {
   "cell_type": "code",
   "execution_count": null,
   "metadata": {},
   "outputs": [],
   "source": [
    "def basic_plot_renderer(width, height, plot_group):\n",
    "    \"\"\"Set up a renderer object for plotting a group\"\"\"\n",
    "    camera = three.CombinedCamera(position=[2, 2, 2], width=width, height=height)\n",
    "    key_light = three.DirectionalLight(position=[0, 10, 10])\n",
    "    ambient = three.AmbientLight(intensity=0.5)\n",
    "    # This is the only line differing for a different guides:\n",
    "    grid = AxesCross(scales=[LinearScaleWidget(), LinearScaleWidget(), LinearScaleWidget()], autosize_target=plot_group)\n",
    "    scene = three.Scene(children=[plot_group, grid, key_light, ambient, camera], background='white')\n",
    "    controls = three.OrbitControls(camera)\n",
    "    renderer = three.Renderer(scene, camera, [controls],\n",
    "                              width=width, height=height)\n",
    "    return renderer"
   ]
  },
  {
   "cell_type": "code",
   "execution_count": null,
   "metadata": {},
   "outputs": [],
   "source": [
    "plot_scene = three.Group()\n",
    "renderer = basic_plot_renderer(800, 400, plot_scene)\n",
    "renderer"
   ]
  },
  {
   "cell_type": "code",
   "execution_count": null,
   "metadata": {},
   "outputs": [],
   "source": []
  }
 ],
 "metadata": {
  "kernelspec": {
   "display_name": "Python 3",
   "language": "python",
   "name": "python3"
  },
  "language_info": {
   "codemirror_mode": {
    "name": "ipython",
    "version": 3
   },
   "file_extension": ".py",
   "mimetype": "text/x-python",
   "name": "python",
   "nbconvert_exporter": "python",
   "pygments_lexer": "ipython3",
   "version": "3.6.6"
  }
 },
 "nbformat": 4,
 "nbformat_minor": 2
}
