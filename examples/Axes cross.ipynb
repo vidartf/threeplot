{
 "cells": [
  {
   "cell_type": "code",
   "execution_count": 1,
   "metadata": {},
   "outputs": [],
   "source": [
    "import numpy as np\n",
    "import pythreejs as three\n",
    "from threeplot import *\n",
    "from ipyscales import *"
   ]
  },
  {
   "cell_type": "code",
   "execution_count": 2,
   "metadata": {},
   "outputs": [],
   "source": [
    "def basic_plot_renderer(width, height, plot_group):\n",
    "    \"\"\"Set up a renderer object for plotting a group\"\"\"\n",
    "    camera = three.CombinedCamera(position=[2, 2, 2], width=width, height=height)\n",
    "    key_light = three.DirectionalLight(position=[0, 10, 10])\n",
    "    ambient = three.AmbientLight(intensity=0.5)\n",
    "    # This is the only line differing for a different guides:\n",
    "    grid = AxesCross(scales=[LinearScaleWidget(), LinearScaleWidget(), LinearScaleWidget()], autosize_target=plot_group)\n",
    "    scene = three.Scene(children=[plot_group, grid, key_light, ambient, camera], background='white')\n",
    "    controls = three.OrbitControls(camera)\n",
    "    renderer = three.Renderer(scene, camera, [controls],\n",
    "                              width=width, height=height)\n",
    "    return renderer"
   ]
  },
  {
   "cell_type": "code",
   "execution_count": 3,
   "metadata": {},
   "outputs": [
    {
     "data": {
      "application/vnd.jupyter.widget-view+json": {
       "model_id": "fed4b49277344c95bbcd999e3b32e5e9",
       "version_major": 2,
       "version_minor": 0
      },
      "text/html": [
       "<p>Failed to display Jupyter Widget of type <code>Renderer</code>.</p>\n",
       "<p>\n",
       "  If you're reading this message in Jupyter Notebook or JupyterLab, it may mean\n",
       "  that the widgets JavaScript is still loading. If this message persists, it\n",
       "  likely means that the widgets JavaScript library is either not installed or\n",
       "  not enabled. See the <a href=\"https://ipywidgets.readthedocs.io/en/stable/user_install.html\">Jupyter\n",
       "  Widgets Documentation</a> for setup instructions.\n",
       "</p>\n",
       "<p>\n",
       "  If you're reading this message in another notebook frontend (for example, a static\n",
       "  rendering on GitHub or <a href=\"https://nbviewer.jupyter.org/\">NBViewer</a>),\n",
       "  it may mean that your frontend doesn't currently support widgets.\n",
       "</p>\n"
      ],
      "text/plain": [
       "Renderer(camera=CombinedCamera(height=400.0, position=[2.0, 2.0, 2.0], projectionMatrix=[1.0, 0.0, 0.0, 0.0, 0.0, 1.0, 0.0, 0.0, 0.0, 0.0, 1.0, 0.0, 0.0, 0.0, 0.0, 1.0], quaternion=[0.0, 0.0, 0.0, 1.0], rotation=(0.0, 0.0, 0.0, 'XYZ'), scale=[1.0, 1.0, 1.0], up=[0.0, 1.0, 0.0], width=800.0), controls=[OrbitControls(controlling=CombinedCamera(height=400.0, position=[2.0, 2.0, 2.0], projectionMatrix=[1.0, 0.0, 0.0, 0.0, 0.0, 1.0, 0.0, 0.0, 0.0, 0.0, 1.0, 0.0, 0.0, 0.0, 0.0, 1.0], quaternion=[0.0, 0.0, 0.0, 1.0], rotation=(0.0, 0.0, 0.0, 'XYZ'), scale=[1.0, 1.0, 1.0], up=[0.0, 1.0, 0.0], width=800.0), target=[0.0, 0.0, 0.0])], scene=Scene(background='white', children=(Group(position=[0.0, 0.0, 0.0], quaternion=[0.0, 0.0, 0.0, 1.0], rotation=(0.0, 0.0, 0.0, 'XYZ'), scale=[1.0, 1.0, 1.0], up=[0.0, 1.0, 0.0]), AxesCross(axes_styles=({'line_width': None, 'label': 'x', 'minor_tick_format': {'tick_length': 0.05, 'line_color': None, 'direction': 'out', 'line_width': None, 'label_format': '', 'label_color': None}, 'line_color': 'red', 'major_tick_format': {'tick_length': 0.1, 'line_color': None, 'direction': 'out', 'line_width': None, 'label_format': '', 'label_color': None}}, {'line_width': None, 'label': 'y', 'minor_tick_format': {'tick_length': 0.05, 'line_color': None, 'direction': 'out', 'line_width': None, 'label_format': '', 'label_color': None}, 'line_color': 'green', 'major_tick_format': {'tick_length': 0.1, 'line_color': None, 'direction': 'out', 'line_width': None, 'label_format': '', 'label_color': None}}, {'line_width': None, 'label': 'z', 'minor_tick_format': {'tick_length': 0.05, 'line_color': None, 'direction': 'out', 'line_width': None, 'label_format': '', 'label_color': None}, 'line_color': 'blue', 'major_tick_format': {'tick_length': 0.1, 'line_color': None, 'direction': 'out', 'line_width': None, 'label_format': '', 'label_color': None}}), position=[0.0, 0.0, 0.0], quaternion=[0.0, 0.0, 0.0, 1.0], rotation=(0.0, 0.0, 0.0, 'XYZ'), scale=[1.0, 1.0, 1.0], scales=(LinearScaleWidget(domain=(0.0, 1.0), range=(0.0, 1.0)), LinearScaleWidget(domain=(0.0, 1.0), range=(0.0, 1.0)), LinearScaleWidget(domain=(0.0, 1.0), range=(0.0, 1.0))), up=[0.0, 1.0, 0.0]), DirectionalLight(position=[0.0, 10.0, 10.0], quaternion=[0.0, 0.0, 0.0, 1.0], rotation=(0.0, 0.0, 0.0, 'XYZ'), scale=[1.0, 1.0, 1.0], target=Object3D(position=[0.0, 0.0, 0.0], quaternion=[0.0, 0.0, 0.0, 1.0], rotation=(0.0, 0.0, 0.0, 'XYZ'), scale=[1.0, 1.0, 1.0], up=[0.0, 1.0, 0.0]), up=[0.0, 1.0, 0.0]), AmbientLight(intensity=0.5, position=[0.0, 0.0, 0.0], quaternion=[0.0, 0.0, 0.0, 1.0], rotation=(0.0, 0.0, 0.0, 'XYZ'), scale=[1.0, 1.0, 1.0], up=[0.0, 1.0, 0.0]), CombinedCamera(height=400.0, position=[2.0, 2.0, 2.0], projectionMatrix=[1.0, 0.0, 0.0, 0.0, 0.0, 1.0, 0.0, 0.0, 0.0, 0.0, 1.0, 0.0, 0.0, 0.0, 0.0, 1.0], quaternion=[0.0, 0.0, 0.0, 1.0], rotation=(0.0, 0.0, 0.0, 'XYZ'), scale=[1.0, 1.0, 1.0], up=[0.0, 1.0, 0.0], width=800.0)), fog=None, overrideMaterial=None, position=[0.0, 0.0, 0.0], quaternion=[0.0, 0.0, 0.0, 1.0], rotation=(0.0, 0.0, 0.0, 'XYZ'), scale=[1.0, 1.0, 1.0], up=[0.0, 1.0, 0.0]))"
      ]
     },
     "metadata": {},
     "output_type": "display_data"
    }
   ],
   "source": [
    "plot_scene = three.Group()\n",
    "renderer = basic_plot_renderer(800, 400, plot_scene)\n",
    "renderer"
   ]
  },
  {
   "cell_type": "code",
   "execution_count": null,
   "metadata": {},
   "outputs": [],
   "source": []
  }
 ],
 "metadata": {
  "kernelspec": {
   "display_name": "Python 3",
   "language": "python",
   "name": "python3"
  },
  "language_info": {
   "codemirror_mode": {
    "name": "ipython",
    "version": 3
   },
   "file_extension": ".py",
   "mimetype": "text/x-python",
   "name": "python",
   "nbconvert_exporter": "python",
   "pygments_lexer": "ipython3",
   "version": "3.5.4"
  }
 },
 "nbformat": 4,
 "nbformat_minor": 2
}
