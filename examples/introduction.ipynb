{
 "cells": [
  {
   "cell_type": "code",
   "execution_count": null,
   "metadata": {},
   "outputs": [],
   "source": [
    "from threeplot import GridCross, GridStyle, GridlineStyle\n",
    "import pythreejs as three\n",
    "from ipyscales import LinearScaleWidget\n",
    "from ipywidgets import jslink"
   ]
  },
  {
   "cell_type": "code",
   "execution_count": null,
   "metadata": {},
   "outputs": [],
   "source": [
    "scales = []\n",
    "for i in range(3):\n",
    "    scales.append(LinearScaleWidget(\n",
    "        range=(-2, 1 + 2 * i),\n",
    "        domain=(-2, 1 + 2 * i),\n",
    "    ))"
   ]
  },
  {
   "cell_type": "code",
   "execution_count": null,
   "metadata": {},
   "outputs": [],
   "source": [
    "scales = []\n",
    "for i in range(3):\n",
    "    scales.append(LinearScaleWidget())"
   ]
  },
  {
   "cell_type": "code",
   "execution_count": null,
   "metadata": {},
   "outputs": [],
   "source": [
    "view_width = 600\n",
    "view_height = 400\n",
    "\n",
    "camera = three.CombinedCamera(position=[3, 2, 3], width=view_width, height=view_height, up=(0,0,1))\n",
    "\n",
    "key_light = three.DirectionalLight(position=[0, 10, 10])\n",
    "key_light.lookAt([0, 0, 0])\n",
    "ambient_light = three.AmbientLight(intensity=0.4)\n"
   ]
  },
  {
   "cell_type": "code",
   "execution_count": null,
   "metadata": {},
   "outputs": [],
   "source": [
    "axes = GridCross(\n",
    "    scales=scales,\n",
    "    line_color='black',\n",
    "    mode='minmax',\n",
    "    camera=camera,\n",
    "    grid_styles=[GridStyle(major_style=GridlineStyle(line_color='red')),\n",
    "                 GridStyle(major_style=GridlineStyle(line_color='green')),\n",
    "                 GridStyle(major_style=GridlineStyle(line_color='blue'))]\n",
    ")\n",
    "\n",
    "scene = three.Scene(children=[key_light, axes, ambient_light, camera], background='#f8f8f8')"
   ]
  },
  {
   "cell_type": "code",
   "execution_count": null,
   "metadata": {},
   "outputs": [],
   "source": [
    "axes = GridCross(\n",
    "    scales=scales,\n",
    "    line_color='black',\n",
    "    grid_styles=[GridStyle(), GridStyle(), GridStyle()]\n",
    ")"
   ]
  },
  {
   "cell_type": "code",
   "execution_count": null,
   "metadata": {},
   "outputs": [],
   "source": [
    "plot_data = three.Group()\n",
    "scene.add(plot_data)\n",
    "axes.autosize_target = plot_data"
   ]
  },
  {
   "cell_type": "code",
   "execution_count": null,
   "metadata": {},
   "outputs": [],
   "source": [
    "boxA = three.Mesh(three.SphereGeometry(radius=0.2), three.MeshLambertMaterial(color='red'), position=[2, 1, 3])\n",
    "boxB = three.Mesh(three.SphereGeometry(radius=0.2), three.MeshLambertMaterial(color='red'), position=[-2, -1, -3])\n",
    "with plot_data.hold_sync():\n",
    "    plot_data.add(boxA)\n",
    "    plot_data.add(boxB)"
   ]
  },
  {
   "cell_type": "code",
   "execution_count": null,
   "metadata": {},
   "outputs": [],
   "source": [
    "controller = three.OrbitControls(controlling=camera)\n",
    "three.Renderer( camera=camera, scene=scene, controls=[controller], width=view_width, height=view_height)"
   ]
  },
  {
   "cell_type": "code",
   "execution_count": null,
   "metadata": {},
   "outputs": [],
   "source": [
    "camera.mode = 'orthographic'"
   ]
  },
  {
   "cell_type": "code",
   "execution_count": null,
   "metadata": {},
   "outputs": [],
   "source": [
    "camera.mode = 'perspective'"
   ]
  },
  {
   "cell_type": "code",
   "execution_count": null,
   "metadata": {},
   "outputs": [],
   "source": [
    "scales[0].range = (0, 4)\n",
    "scales[0].clamp = True"
   ]
  },
  {
   "cell_type": "code",
   "execution_count": null,
   "metadata": {},
   "outputs": [],
   "source": [
    "scales[0].domain = (0, 1)"
   ]
  },
  {
   "cell_type": "code",
   "execution_count": null,
   "metadata": {},
   "outputs": [],
   "source": [
    "jslink((scales[0], 'range'), (scales[0], 'domain'))"
   ]
  },
  {
   "cell_type": "code",
   "execution_count": null,
   "metadata": {},
   "outputs": [],
   "source": [
    "scene.children = scene.children[:-1]"
   ]
  },
  {
   "cell_type": "code",
   "execution_count": null,
   "metadata": {},
   "outputs": [],
   "source": [
    "plot_data.children = []"
   ]
  },
  {
   "cell_type": "code",
   "execution_count": null,
   "metadata": {},
   "outputs": [],
   "source": [
    "three.Mesh?"
   ]
  },
  {
   "cell_type": "code",
   "execution_count": null,
   "metadata": {},
   "outputs": [],
   "source": [
    "three.BoxBufferGeometry?"
   ]
  },
  {
   "cell_type": "code",
   "execution_count": null,
   "metadata": {},
   "outputs": [],
   "source": [
    "axes.autosize_target = None"
   ]
  },
  {
   "cell_type": "code",
   "execution_count": null,
   "metadata": {},
   "outputs": [],
   "source": [
    "axes.autosize_target = plot_data"
   ]
  },
  {
   "cell_type": "code",
   "execution_count": null,
   "metadata": {},
   "outputs": [],
   "source": []
  }
 ],
 "metadata": {
  "kernelspec": {
   "display_name": "Python 3",
   "language": "python",
   "name": "python3"
  },
  "language_info": {
   "codemirror_mode": {
    "name": "ipython",
    "version": 3
   },
   "file_extension": ".py",
   "mimetype": "text/x-python",
   "name": "python",
   "nbconvert_exporter": "python",
   "pygments_lexer": "ipython3",
   "version": "3.5.4"
  }
 },
 "nbformat": 4,
 "nbformat_minor": 2
}
