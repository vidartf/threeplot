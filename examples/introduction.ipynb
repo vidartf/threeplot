{
 "cells": [
  {
   "cell_type": "code",
   "execution_count": 1,
   "metadata": {},
   "outputs": [],
   "source": [
    "from threeplot import GridCrossWidget, GridStyle, GridlineStyle\n",
    "import pythreejs as three\n",
    "from ipyscales import LinearScaleWidget\n",
    "from ipywidgets import jslink"
   ]
  },
  {
   "cell_type": "code",
   "execution_count": 2,
   "metadata": {},
   "outputs": [],
   "source": [
    "scales = []\n",
    "for i in range(3):\n",
    "    scales.append(LinearScaleWidget(\n",
    "        range=(-2, 1 + 2 * i),\n",
    "        domain=(-2, 1 + 2 * i),\n",
    "    ))"
   ]
  },
  {
   "cell_type": "code",
   "execution_count": 3,
   "metadata": {},
   "outputs": [],
   "source": [
    "scales = []\n",
    "for i in range(3):\n",
    "    scales.append(LinearScaleWidget())"
   ]
  },
  {
   "cell_type": "code",
   "execution_count": 4,
   "metadata": {},
   "outputs": [],
   "source": [
    "axes = GridCrossWidget(\n",
    "    scales=scales,\n",
    "    line_color='black',\n",
    "    grid_styles=[GridStyle(major_style=GridlineStyle(line_color='red')),\n",
    "                 GridStyle(major_style=GridlineStyle(line_color='green')),\n",
    "                 GridStyle(major_style=GridlineStyle(line_color='blue'))]\n",
    ")"
   ]
  },
  {
   "cell_type": "code",
   "execution_count": 5,
   "metadata": {},
   "outputs": [],
   "source": [
    "axes = GridCrossWidget(\n",
    "    scales=scales,\n",
    "    line_color='black',\n",
    "    grid_styles=[GridStyle(), GridStyle(), GridStyle()]\n",
    ")"
   ]
  },
  {
   "cell_type": "code",
   "execution_count": 6,
   "metadata": {},
   "outputs": [],
   "source": [
    "view_width = 600\n",
    "view_height = 400\n",
    "\n",
    "camera = three.CombinedCamera(position=[3, 2, 3], width=view_width, height=view_height, up=(0,0,1))\n",
    "\n",
    "key_light = three.DirectionalLight(position=[0, 10, 10])\n",
    "key_light.lookAt([0, 0, 0])\n",
    "ambient_light = three.AmbientLight(intensity=0.4)\n",
    "\n",
    "scene = three.Scene(children=[axes, key_light, ambient_light, camera], background='#f8f8f8')"
   ]
  },
  {
   "cell_type": "code",
   "execution_count": 7,
   "metadata": {},
   "outputs": [],
   "source": [
    "plot_data = three.Group()\n",
    "scene.add(plot_data)\n",
    "axes.autosize_target = plot_data"
   ]
  },
  {
   "cell_type": "code",
   "execution_count": 8,
   "metadata": {},
   "outputs": [],
   "source": [
    "boxA = three.Mesh(three.SphereGeometry(radius=0.2), three.MeshLambertMaterial(color='red'), position=[2, 1, 3])\n",
    "boxB = three.Mesh(three.SphereGeometry(radius=0.2), three.MeshLambertMaterial(color='red'), position=[-2, -1, -3])\n",
    "with plot_data.hold_sync():\n",
    "    plot_data.add(boxA)\n",
    "    plot_data.add(boxB)"
   ]
  },
  {
   "cell_type": "code",
   "execution_count": 9,
   "metadata": {},
   "outputs": [
    {
     "data": {
      "application/vnd.jupyter.widget-view+json": {
       "model_id": "a4e99256caa542489b70e49163f3c68d",
       "version_major": 2,
       "version_minor": 0
      },
      "text/html": [
       "<p>Failed to display Jupyter Widget of type <code>Renderer</code>.</p>\n",
       "<p>\n",
       "  If you're reading this message in Jupyter Notebook or JupyterLab, it may mean\n",
       "  that the widgets JavaScript is still loading. If this message persists, it\n",
       "  likely means that the widgets JavaScript library is either not installed or\n",
       "  not enabled. See the <a href=\"https://ipywidgets.readthedocs.io/en/stable/user_install.html\">Jupyter\n",
       "  Widgets Documentation</a> for setup instructions.\n",
       "</p>\n",
       "<p>\n",
       "  If you're reading this message in another notebook frontend (for example, a static\n",
       "  rendering on GitHub or <a href=\"https://nbviewer.jupyter.org/\">NBViewer</a>),\n",
       "  it may mean that your frontend doesn't currently support widgets.\n",
       "</p>\n"
      ],
      "text/plain": [
       "Renderer(camera=CombinedCamera(height=400.0, position=[3.0, 2.0, 3.0], projectionMatrix=[1.4296712803397058, 0.0, 0.0, 0.0, 0.0, 2.1445069205095586, 0.0, 0.0, 0.0, 0.0, -1.00010000500025, -1.0, 0.0, 0.0, -0.200010000500025, 0.0], quaternion=[0.0, 0.0, 0.0, 1.0], rotation=(0.0, 0.0, 0.0, 'XYZ'), scale=[1.0, 1.0, 1.0], type='PerspectiveCamera', up=[0.0, 0.0, 1.0], width=600.0), controls=[OrbitControls(controlling=CombinedCamera(height=400.0, position=[3.0, 2.0, 3.0], projectionMatrix=[1.4296712803397058, 0.0, 0.0, 0.0, 0.0, 2.1445069205095586, 0.0, 0.0, 0.0, 0.0, -1.00010000500025, -1.0, 0.0, 0.0, -0.200010000500025, 0.0], quaternion=[0.0, 0.0, 0.0, 1.0], rotation=(0.0, 0.0, 0.0, 'XYZ'), scale=[1.0, 1.0, 1.0], type='PerspectiveCamera', up=[0.0, 0.0, 1.0], width=600.0), target=[0.0, 0.0, 0.0])], scene=Scene(background='#f8f8f8', children=(GridCrossWidget(autosize_target=Group(children=(Mesh(geometry=SphereGeometry(radius=0.2, type='SphereGeometry'), material=MeshLambertMaterial(alphaMap=None, aoMap=None, color='red', emissiveMap=None, envMap=None, lightMap=None, map=None, specularMap=None, type='MeshLambertMaterial'), position=[2.0, 1.0, 3.0], quaternion=[0.0, 0.0, 0.0, 1.0], rotation=(0.0, 0.0, 0.0, 'XYZ'), scale=[1.0, 1.0, 1.0], type='Mesh', up=[0.0, 1.0, 0.0]), Mesh(geometry=SphereGeometry(radius=0.2, type='SphereGeometry'), material=MeshLambertMaterial(alphaMap=None, aoMap=None, color='red', emissiveMap=None, envMap=None, lightMap=None, map=None, specularMap=None, type='MeshLambertMaterial'), position=[-2.0, -1.0, -3.0], quaternion=[0.0, 0.0, 0.0, 1.0], rotation=(0.0, 0.0, 0.0, 'XYZ'), scale=[1.0, 1.0, 1.0], type='Mesh', up=[0.0, 1.0, 0.0])), position=[0.0, 0.0, 0.0], quaternion=[0.0, 0.0, 0.0, 1.0], rotation=(0.0, 0.0, 0.0, 'XYZ'), scale=[1.0, 1.0, 1.0], type='Group', up=[0.0, 1.0, 0.0]), grid_styles=({'minor_style': {'line_width': 1.0, 'line_color': '#d9d9d9', 'label_format': ''}, 'line_width': None, 'label': '', 'major_style': {'line_width': 2.0, 'line_color': '#a6a6a6', 'label_format': ''}, 'line_color': None}, {'minor_style': {'line_width': 1.0, 'line_color': '#d9d9d9', 'label_format': ''}, 'line_width': None, 'label': '', 'major_style': {'line_width': 2.0, 'line_color': '#a6a6a6', 'label_format': ''}, 'line_color': None}, {'minor_style': {'line_width': 1.0, 'line_color': '#d9d9d9', 'label_format': ''}, 'line_width': None, 'label': '', 'major_style': {'line_width': 2.0, 'line_color': '#a6a6a6', 'label_format': ''}, 'line_color': None}), position=[0.0, 0.0, 0.0], quaternion=[0.0, 0.0, 0.0, 1.0], rotation=(0.0, 0.0, 0.0, 'XYZ'), scale=[1.0, 1.0, 1.0], scales=(LinearScaleWidget(domain=(0.0, 1.0), range=(0.0, 1.0)), LinearScaleWidget(domain=(0.0, 1.0), range=(0.0, 1.0)), LinearScaleWidget(domain=(0.0, 1.0), range=(0.0, 1.0))), type='Group', up=[0.0, 1.0, 0.0]), DirectionalLight(position=[0.0, 10.0, 10.0], quaternion=[0.0, 0.9238795325112867, -0.3826834323650897, 0.0], rotation=(2.356194490192345, 0.0, -3.141592653589793, 'XYZ'), scale=[1.0, 1.0, 1.0], target=Object3D(position=[0.0, 0.0, 0.0], quaternion=[0.0, 0.0, 0.0, 1.0], rotation=(0.0, 0.0, 0.0, 'XYZ'), scale=[1.0, 1.0, 1.0], type='Object3D', up=[0.0, 1.0, 0.0]), type='DirectionalLight', up=[0.0, 1.0, 0.0]), AmbientLight(intensity=0.4, position=[0.0, 0.0, 0.0], quaternion=[0.0, 0.0, 0.0, 1.0], rotation=(0.0, 0.0, 0.0, 'XYZ'), scale=[1.0, 1.0, 1.0], type='AmbientLight', up=[0.0, 1.0, 0.0]), CombinedCamera(height=400.0, position=[3.0, 2.0, 3.0], projectionMatrix=[1.4296712803397058, 0.0, 0.0, 0.0, 0.0, 2.1445069205095586, 0.0, 0.0, 0.0, 0.0, -1.00010000500025, -1.0, 0.0, 0.0, -0.200010000500025, 0.0], quaternion=[0.0, 0.0, 0.0, 1.0], rotation=(0.0, 0.0, 0.0, 'XYZ'), scale=[1.0, 1.0, 1.0], type='PerspectiveCamera', up=[0.0, 0.0, 1.0], width=600.0), Group(children=(Mesh(geometry=SphereGeometry(radius=0.2, type='SphereGeometry'), material=MeshLambertMaterial(alphaMap=None, aoMap=None, color='red', emissiveMap=None, envMap=None, lightMap=None, map=None, specularMap=None, type='MeshLambertMaterial'), position=[2.0, 1.0, 3.0], quaternion=[0.0, 0.0, 0.0, 1.0], rotation=(0.0, 0.0, 0.0, 'XYZ'), scale=[1.0, 1.0, 1.0], type='Mesh', up=[0.0, 1.0, 0.0]), Mesh(geometry=SphereGeometry(radius=0.2, type='SphereGeometry'), material=MeshLambertMaterial(alphaMap=None, aoMap=None, color='red', emissiveMap=None, envMap=None, lightMap=None, map=None, specularMap=None, type='MeshLambertMaterial'), position=[-2.0, -1.0, -3.0], quaternion=[0.0, 0.0, 0.0, 1.0], rotation=(0.0, 0.0, 0.0, 'XYZ'), scale=[1.0, 1.0, 1.0], type='Mesh', up=[0.0, 1.0, 0.0])), position=[0.0, 0.0, 0.0], quaternion=[0.0, 0.0, 0.0, 1.0], rotation=(0.0, 0.0, 0.0, 'XYZ'), scale=[1.0, 1.0, 1.0], type='Group', up=[0.0, 1.0, 0.0])), fog=None, overrideMaterial=None, position=[0.0, 0.0, 0.0], quaternion=[0.0, 0.0, 0.0, 1.0], rotation=(0.0, 0.0, 0.0, 'XYZ'), scale=[1.0, 1.0, 1.0], type='Scene', up=[0.0, 1.0, 0.0]))"
      ]
     },
     "metadata": {},
     "output_type": "display_data"
    }
   ],
   "source": [
    "controller = three.OrbitControls(controlling=camera)\n",
    "three.Renderer( camera=camera, scene=scene, controls=[controller], width=view_width, height=view_height)"
   ]
  },
  {
   "cell_type": "code",
   "execution_count": null,
   "metadata": {},
   "outputs": [],
   "source": [
    "camera.mode = 'orthographic'"
   ]
  },
  {
   "cell_type": "code",
   "execution_count": null,
   "metadata": {},
   "outputs": [],
   "source": [
    "camera.mode = 'perspective'"
   ]
  },
  {
   "cell_type": "code",
   "execution_count": null,
   "metadata": {},
   "outputs": [],
   "source": [
    "scales[0].range = (0, 4)\n",
    "scales[0].clamp = True"
   ]
  },
  {
   "cell_type": "code",
   "execution_count": null,
   "metadata": {},
   "outputs": [],
   "source": [
    "scales[0].domain = (0, 1)"
   ]
  },
  {
   "cell_type": "code",
   "execution_count": null,
   "metadata": {},
   "outputs": [],
   "source": [
    "jslink((scales[0], 'range'), (scales[0], 'domain'))"
   ]
  },
  {
   "cell_type": "code",
   "execution_count": null,
   "metadata": {},
   "outputs": [],
   "source": [
    "scene.children = scene.children[:-1]"
   ]
  },
  {
   "cell_type": "code",
   "execution_count": null,
   "metadata": {},
   "outputs": [],
   "source": [
    "plot_data.children = []"
   ]
  },
  {
   "cell_type": "code",
   "execution_count": null,
   "metadata": {},
   "outputs": [],
   "source": [
    "three.Mesh?"
   ]
  },
  {
   "cell_type": "code",
   "execution_count": null,
   "metadata": {},
   "outputs": [],
   "source": [
    "three.BoxBufferGeometry?"
   ]
  },
  {
   "cell_type": "code",
   "execution_count": null,
   "metadata": {},
   "outputs": [],
   "source": [
    "axes.autosize_target = None"
   ]
  },
  {
   "cell_type": "code",
   "execution_count": null,
   "metadata": {},
   "outputs": [],
   "source": [
    "axes.autosize_target = plot_data"
   ]
  },
  {
   "cell_type": "code",
   "execution_count": null,
   "metadata": {},
   "outputs": [],
   "source": []
  }
 ],
 "metadata": {
  "kernelspec": {
   "display_name": "Python 3",
   "language": "python",
   "name": "python3"
  },
  "language_info": {
   "codemirror_mode": {
    "name": "ipython",
    "version": 3
   },
   "file_extension": ".py",
   "mimetype": "text/x-python",
   "name": "python",
   "nbconvert_exporter": "python",
   "pygments_lexer": "ipython3",
   "version": "3.5.4"
  }
 },
 "nbformat": 4,
 "nbformat_minor": 2
}
